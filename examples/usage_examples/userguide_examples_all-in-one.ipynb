{
 "cells": [
  {
   "cell_type": "code",
   "execution_count": null,
   "metadata": {},
   "outputs": [],
   "source": [
    "# %% Classification\n",
    "import parent_import\n",
    "from tune_easy import AllInOneTuning\n",
    "import seaborn as sns\n",
    "# データセット読込\n",
    "iris = sns.load_dataset(\"iris\")\n",
    "iris = iris[iris['species'] != 'setosa']  # Only 2 class\n",
    "TARGET_VARIABLE = 'species'  # Target variable name\n",
    "USE_EXPLANATORY = ['petal_width', 'petal_length', 'sepal_width', 'sepal_length']  # Selected explanatory variables\n",
    "y = iris[TARGET_VARIABLE].values\n",
    "X = iris[USE_EXPLANATORY].values\n",
    "###### チューニング一括実行 ######\n",
    "all_tuner = AllInOneTuning()\n",
    "all_tuner.all_in_one_tuning(X, y, x_colnames=USE_EXPLANATORY, cv=2)\n",
    "all_tuner.df_scores"
   ]
  },
  {
   "cell_type": "code",
   "execution_count": null,
   "metadata": {},
   "outputs": [],
   "source": [
    "# %% Regression\n",
    "import parent_import\n",
    "from tune_easy import AllInOneTuning\n",
    "from sklearn.datasets import fetch_california_housing\n",
    "import pandas as pd\n",
    "import numpy as np\n",
    "TARGET_VARIABLE = 'price'  # Target variable name\n",
    "USE_EXPLANATORY = ['MedInc', 'AveOccup', 'Latitude', 'HouseAge']  # Selected explanatory variables\n",
    "california_housing = pd.DataFrame(np.column_stack((fetch_california_housing().data, fetch_california_housing().target)),\n",
    "        columns = np.append(fetch_california_housing().feature_names, TARGET_VARIABLE))\n",
    "california_housing = california_housing.sample(n=1000, random_state=42)  # sampling from 20640 to 1000\n",
    "y = california_housing[TARGET_VARIABLE].values  # Explanatory variables\n",
    "X = california_housing[USE_EXPLANATORY].values  # Target variable\n",
    "###### チューニング一括実行 ######\n",
    "all_tuner = AllInOneTuning()\n",
    "all_tuner.all_in_one_tuning(X, y, x_colnames=USE_EXPLANATORY, cv=2)\n",
    "all_tuner.df_scores"
   ]
  },
  {
   "cell_type": "code",
   "execution_count": null,
   "metadata": {},
   "outputs": [],
   "source": [
    "# %% MLflow\n",
    "import parent_import\n",
    "from tune_easy import AllInOneTuning\n",
    "from sklearn.datasets import fetch_california_housing\n",
    "import pandas as pd\n",
    "import numpy as np\n",
    "TARGET_VARIABLE = 'price'  # Target variable name\n",
    "USE_EXPLANATORY = ['MedInc', 'AveOccup', 'Latitude', 'HouseAge']  # Selected explanatory variables\n",
    "california_housing = pd.DataFrame(np.column_stack((fetch_california_housing().data, fetch_california_housing().target)),\n",
    "        columns = np.append(fetch_california_housing().feature_names, TARGET_VARIABLE))\n",
    "california_housing = california_housing.sample(n=1000, random_state=42)  # sampling from 20640 to 1000\n",
    "y = california_housing[TARGET_VARIABLE].values  # Explanatory variables\n",
    "X = california_housing[USE_EXPLANATORY].values  # Target variable\n",
    "###### チューニング一括実行 ######\n",
    "all_tuner = AllInOneTuning()\n",
    "all_tuner.all_in_one_tuning(X, y, x_colnames=USE_EXPLANATORY, cv=2,\n",
    "                             mlflow_logging=True)  # MLflowによるロギング有効化\n",
    "all_tuner.df_scores"
   ]
  }
 ],
 "metadata": {
  "interpreter": {
   "hash": "f6f89127ceee22c9cf40cfee970a61db645cf2c046ea3ef2bb5f3b1cfb3d50ef"
  },
  "kernelspec": {
   "display_name": "Python 3.8.12 ('python38')",
   "language": "python",
   "name": "python3"
  },
  "language_info": {
   "codemirror_mode": {
    "name": "ipython",
    "version": 3
   },
   "file_extension": ".py",
   "mimetype": "text/x-python",
   "name": "python",
   "nbconvert_exporter": "python",
   "pygments_lexer": "ipython3",
   "version": "3.8.12"
  },
  "orig_nbformat": 4
 },
 "nbformat": 4,
 "nbformat_minor": 2
}
